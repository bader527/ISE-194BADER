{
 "cells": [
  {
   "cell_type": "markdown",
   "metadata": {},
   "source": [
    "# Data Load and Wrangle\n",
    "\n",
    "## The goal of the exercise is to load a dataset, clean and transform and compute descriptive statistics"
   ]
  },
  {
   "cell_type": "code",
   "execution_count": 1,
   "metadata": {},
   "outputs": [],
   "source": [
    "# This piece of code enables to display multiple output within a cell\n",
    "from IPython.core.interactiveshell import InteractiveShell\n",
    "InteractiveShell.ast_node_interactivity = 'all'"
   ]
  },
  {
   "cell_type": "markdown",
   "metadata": {},
   "source": [
    "<div class=\"alert alert-block alert-warning\">\n",
    "    \n",
    "## Task Instructions \n",
    "### Load one of the built in dataset\n",
    "### Transform the data as required \n",
    "### From a perspective of a journalist interested in writing a story about the data, **_ask and answer_** **3** questions that summarize the sample. \n",
    "    \n",
    "#### Please *_only use summary statistics_* (mean, median, mode, standard deviation, variance, range,..). The statistics can be computed by groups.\n",
    "\n",
    "#### Reference :https://kolesnikov.ga/Datasets_in_Python/\n",
    "\n",
    "</div>"
   ]
  },
  {
   "cell_type": "code",
   "execution_count": 2,
   "metadata": {},
   "outputs": [],
   "source": [
    "import numpy as np\n",
    "import pandas as pd\n",
    "import statsmodels.api as sm\n",
    "import matplotlib.pyplot as plt\n",
    "from scipy import stats\n",
    "ccard = sm.datasets.ccard"
   ]
  },
  {
   "cell_type": "code",
   "execution_count": 3,
   "metadata": {},
   "outputs": [],
   "source": [
    "dataset_ccard = ccard.load_pandas()"
   ]
  },
  {
   "cell_type": "code",
   "execution_count": 4,
   "metadata": {},
   "outputs": [],
   "source": [
    "df_ccard = dataset_ccard.data"
   ]
  },
  {
   "cell_type": "code",
   "execution_count": 5,
   "metadata": {
    "scrolled": false
   },
   "outputs": [
    {
     "data": {
      "text/html": [
       "<div>\n",
       "<style scoped>\n",
       "    .dataframe tbody tr th:only-of-type {\n",
       "        vertical-align: middle;\n",
       "    }\n",
       "\n",
       "    .dataframe tbody tr th {\n",
       "        vertical-align: top;\n",
       "    }\n",
       "\n",
       "    .dataframe thead th {\n",
       "        text-align: right;\n",
       "    }\n",
       "</style>\n",
       "<table border=\"1\" class=\"dataframe\">\n",
       "  <thead>\n",
       "    <tr style=\"text-align: right;\">\n",
       "      <th></th>\n",
       "      <th>AVGEXP</th>\n",
       "      <th>AGE</th>\n",
       "      <th>INCOME</th>\n",
       "      <th>INCOMESQ</th>\n",
       "      <th>OWNRENT</th>\n",
       "    </tr>\n",
       "  </thead>\n",
       "  <tbody>\n",
       "    <tr>\n",
       "      <th>0</th>\n",
       "      <td>124.98</td>\n",
       "      <td>38.0</td>\n",
       "      <td>4.52</td>\n",
       "      <td>20.4304</td>\n",
       "      <td>1.0</td>\n",
       "    </tr>\n",
       "    <tr>\n",
       "      <th>1</th>\n",
       "      <td>9.85</td>\n",
       "      <td>33.0</td>\n",
       "      <td>2.42</td>\n",
       "      <td>5.8564</td>\n",
       "      <td>0.0</td>\n",
       "    </tr>\n",
       "    <tr>\n",
       "      <th>2</th>\n",
       "      <td>15.00</td>\n",
       "      <td>34.0</td>\n",
       "      <td>4.50</td>\n",
       "      <td>20.2500</td>\n",
       "      <td>1.0</td>\n",
       "    </tr>\n",
       "    <tr>\n",
       "      <th>3</th>\n",
       "      <td>137.87</td>\n",
       "      <td>31.0</td>\n",
       "      <td>2.54</td>\n",
       "      <td>6.4516</td>\n",
       "      <td>0.0</td>\n",
       "    </tr>\n",
       "    <tr>\n",
       "      <th>4</th>\n",
       "      <td>546.50</td>\n",
       "      <td>32.0</td>\n",
       "      <td>9.79</td>\n",
       "      <td>95.8441</td>\n",
       "      <td>1.0</td>\n",
       "    </tr>\n",
       "    <tr>\n",
       "      <th>...</th>\n",
       "      <td>...</td>\n",
       "      <td>...</td>\n",
       "      <td>...</td>\n",
       "      <td>...</td>\n",
       "      <td>...</td>\n",
       "    </tr>\n",
       "    <tr>\n",
       "      <th>67</th>\n",
       "      <td>68.38</td>\n",
       "      <td>43.0</td>\n",
       "      <td>2.40</td>\n",
       "      <td>5.7600</td>\n",
       "      <td>0.0</td>\n",
       "    </tr>\n",
       "    <tr>\n",
       "      <th>68</th>\n",
       "      <td>474.15</td>\n",
       "      <td>33.0</td>\n",
       "      <td>6.00</td>\n",
       "      <td>36.0000</td>\n",
       "      <td>1.0</td>\n",
       "    </tr>\n",
       "    <tr>\n",
       "      <th>69</th>\n",
       "      <td>234.05</td>\n",
       "      <td>25.0</td>\n",
       "      <td>3.60</td>\n",
       "      <td>12.9600</td>\n",
       "      <td>0.0</td>\n",
       "    </tr>\n",
       "    <tr>\n",
       "      <th>70</th>\n",
       "      <td>451.20</td>\n",
       "      <td>26.0</td>\n",
       "      <td>5.00</td>\n",
       "      <td>25.0000</td>\n",
       "      <td>1.0</td>\n",
       "    </tr>\n",
       "    <tr>\n",
       "      <th>71</th>\n",
       "      <td>251.52</td>\n",
       "      <td>46.0</td>\n",
       "      <td>5.50</td>\n",
       "      <td>30.2500</td>\n",
       "      <td>1.0</td>\n",
       "    </tr>\n",
       "  </tbody>\n",
       "</table>\n",
       "<p>72 rows × 5 columns</p>\n",
       "</div>"
      ],
      "text/plain": [
       "    AVGEXP   AGE  INCOME  INCOMESQ  OWNRENT\n",
       "0   124.98  38.0    4.52   20.4304      1.0\n",
       "1     9.85  33.0    2.42    5.8564      0.0\n",
       "2    15.00  34.0    4.50   20.2500      1.0\n",
       "3   137.87  31.0    2.54    6.4516      0.0\n",
       "4   546.50  32.0    9.79   95.8441      1.0\n",
       "..     ...   ...     ...       ...      ...\n",
       "67   68.38  43.0    2.40    5.7600      0.0\n",
       "68  474.15  33.0    6.00   36.0000      1.0\n",
       "69  234.05  25.0    3.60   12.9600      0.0\n",
       "70  451.20  26.0    5.00   25.0000      1.0\n",
       "71  251.52  46.0    5.50   30.2500      1.0\n",
       "\n",
       "[72 rows x 5 columns]"
      ]
     },
     "execution_count": 5,
     "metadata": {},
     "output_type": "execute_result"
    }
   ],
   "source": [
    "sm.datasets.ccard.load_pandas().data"
   ]
  },
  {
   "cell_type": "code",
   "execution_count": 6,
   "metadata": {},
   "outputs": [],
   "source": [
    "df_ccard.columns=['AVGEXP','AGE','INCOME', 'INCOME_SQ','OWNRENT' ]"
   ]
  },
  {
   "cell_type": "markdown",
   "metadata": {},
   "source": [
    "# What is the average income for the different ages found across this dataset?"
   ]
  },
  {
   "cell_type": "code",
   "execution_count": 7,
   "metadata": {},
   "outputs": [
    {
     "data": {
      "text/plain": [
       "AGE\n",
       "20.0    1.650000\n",
       "21.0    1.890000\n",
       "22.0    2.076667\n",
       "23.0    2.545000\n",
       "24.0    2.887500\n",
       "25.0    3.137500\n",
       "26.0    3.110000\n",
       "27.0    2.495000\n",
       "28.0    4.690000\n",
       "29.0    2.605000\n",
       "30.0    2.623333\n",
       "31.0    2.983333\n",
       "32.0    9.790000\n",
       "33.0    3.400000\n",
       "34.0    3.766667\n",
       "35.0    2.130000\n",
       "36.0    3.016667\n",
       "37.0    4.073333\n",
       "38.0    3.560000\n",
       "40.0    6.500000\n",
       "41.0    5.480000\n",
       "42.0    3.900000\n",
       "43.0    3.693333\n",
       "46.0    5.500000\n",
       "55.0    2.640000\n",
       "Name: INCOME, dtype: float64"
      ]
     },
     "execution_count": 7,
     "metadata": {},
     "output_type": "execute_result"
    }
   ],
   "source": [
    "df_ccard.groupby('AGE')['INCOME'].mean()"
   ]
  },
  {
   "cell_type": "markdown",
   "metadata": {},
   "source": [
    "# What is the average age among people who rent vs people who buy?"
   ]
  },
  {
   "cell_type": "code",
   "execution_count": 8,
   "metadata": {},
   "outputs": [
    {
     "data": {
      "text/plain": [
       "OWNRENT\n",
       "0.0    28.866667\n",
       "1.0    35.296296\n",
       "Name: AGE, dtype: float64"
      ]
     },
     "execution_count": 8,
     "metadata": {},
     "output_type": "execute_result"
    }
   ],
   "source": [
    "df_ccard.groupby('OWNRENT')['AGE'].mean()"
   ]
  },
  {
   "cell_type": "markdown",
   "metadata": {},
   "source": [
    "# What is the highest income for each age group ?"
   ]
  },
  {
   "cell_type": "code",
   "execution_count": 9,
   "metadata": {},
   "outputs": [
    {
     "data": {
      "text/plain": [
       "AGE\n",
       "20.0     1.65\n",
       "21.0     2.47\n",
       "22.0     2.70\n",
       "23.0     2.59\n",
       "24.0     3.75\n",
       "25.0     3.60\n",
       "26.0     5.00\n",
       "27.0     3.50\n",
       "28.0     7.00\n",
       "29.0     3.20\n",
       "30.0     4.51\n",
       "31.0     3.95\n",
       "32.0     9.79\n",
       "33.0     6.00\n",
       "34.0     4.80\n",
       "35.0     2.35\n",
       "36.0     4.00\n",
       "37.0     5.70\n",
       "38.0     4.52\n",
       "40.0    10.00\n",
       "41.0     7.24\n",
       "42.0     3.90\n",
       "43.0     5.14\n",
       "46.0     5.50\n",
       "55.0     2.64\n",
       "Name: INCOME, dtype: float64"
      ]
     },
     "execution_count": 9,
     "metadata": {},
     "output_type": "execute_result"
    }
   ],
   "source": [
    "df_ccard.groupby('AGE')['INCOME'].max()"
   ]
  },
  {
   "cell_type": "markdown",
   "metadata": {},
   "source": [
    "# Comparision of summary statistics across all categories"
   ]
  },
  {
   "cell_type": "code",
   "execution_count": 10,
   "metadata": {},
   "outputs": [
    {
     "data": {
      "text/html": [
       "<div>\n",
       "<style scoped>\n",
       "    .dataframe tbody tr th:only-of-type {\n",
       "        vertical-align: middle;\n",
       "    }\n",
       "\n",
       "    .dataframe tbody tr th {\n",
       "        vertical-align: top;\n",
       "    }\n",
       "\n",
       "    .dataframe thead th {\n",
       "        text-align: right;\n",
       "    }\n",
       "</style>\n",
       "<table border=\"1\" class=\"dataframe\">\n",
       "  <thead>\n",
       "    <tr style=\"text-align: right;\">\n",
       "      <th></th>\n",
       "      <th>AVGEXP</th>\n",
       "      <th>AGE</th>\n",
       "      <th>INCOME</th>\n",
       "      <th>INCOME_SQ</th>\n",
       "      <th>OWNRENT</th>\n",
       "    </tr>\n",
       "  </thead>\n",
       "  <tbody>\n",
       "    <tr>\n",
       "      <th>count</th>\n",
       "      <td>72.000000</td>\n",
       "      <td>72.000000</td>\n",
       "      <td>72.000000</td>\n",
       "      <td>72.000000</td>\n",
       "      <td>72.00000</td>\n",
       "    </tr>\n",
       "    <tr>\n",
       "      <th>mean</th>\n",
       "      <td>262.532083</td>\n",
       "      <td>31.277778</td>\n",
       "      <td>3.437083</td>\n",
       "      <td>14.661565</td>\n",
       "      <td>0.37500</td>\n",
       "    </tr>\n",
       "    <tr>\n",
       "      <th>std</th>\n",
       "      <td>318.046831</td>\n",
       "      <td>7.152705</td>\n",
       "      <td>1.699452</td>\n",
       "      <td>17.644929</td>\n",
       "      <td>0.48752</td>\n",
       "    </tr>\n",
       "    <tr>\n",
       "      <th>min</th>\n",
       "      <td>9.580000</td>\n",
       "      <td>20.000000</td>\n",
       "      <td>1.500000</td>\n",
       "      <td>2.250000</td>\n",
       "      <td>0.00000</td>\n",
       "    </tr>\n",
       "    <tr>\n",
       "      <th>25%</th>\n",
       "      <td>67.597500</td>\n",
       "      <td>26.000000</td>\n",
       "      <td>2.400000</td>\n",
       "      <td>5.760000</td>\n",
       "      <td>0.00000</td>\n",
       "    </tr>\n",
       "    <tr>\n",
       "      <th>50%</th>\n",
       "      <td>158.320000</td>\n",
       "      <td>30.000000</td>\n",
       "      <td>3.000000</td>\n",
       "      <td>9.000000</td>\n",
       "      <td>0.00000</td>\n",
       "    </tr>\n",
       "    <tr>\n",
       "      <th>75%</th>\n",
       "      <td>323.475000</td>\n",
       "      <td>36.000000</td>\n",
       "      <td>3.970000</td>\n",
       "      <td>15.761200</td>\n",
       "      <td>1.00000</td>\n",
       "    </tr>\n",
       "    <tr>\n",
       "      <th>max</th>\n",
       "      <td>1898.030000</td>\n",
       "      <td>55.000000</td>\n",
       "      <td>10.000000</td>\n",
       "      <td>100.000000</td>\n",
       "      <td>1.00000</td>\n",
       "    </tr>\n",
       "  </tbody>\n",
       "</table>\n",
       "</div>"
      ],
      "text/plain": [
       "            AVGEXP        AGE     INCOME   INCOME_SQ   OWNRENT\n",
       "count    72.000000  72.000000  72.000000   72.000000  72.00000\n",
       "mean    262.532083  31.277778   3.437083   14.661565   0.37500\n",
       "std     318.046831   7.152705   1.699452   17.644929   0.48752\n",
       "min       9.580000  20.000000   1.500000    2.250000   0.00000\n",
       "25%      67.597500  26.000000   2.400000    5.760000   0.00000\n",
       "50%     158.320000  30.000000   3.000000    9.000000   0.00000\n",
       "75%     323.475000  36.000000   3.970000   15.761200   1.00000\n",
       "max    1898.030000  55.000000  10.000000  100.000000   1.00000"
      ]
     },
     "execution_count": 10,
     "metadata": {},
     "output_type": "execute_result"
    }
   ],
   "source": [
    "df_ccard.describe()"
   ]
  },
  {
   "cell_type": "markdown",
   "metadata": {},
   "source": [
    "# Comparing Owning/Renting with the income across the dataset"
   ]
  },
  {
   "cell_type": "code",
   "execution_count": 11,
   "metadata": {},
   "outputs": [
    {
     "data": {
      "text/plain": [
       "<AxesSubplot:>"
      ]
     },
     "execution_count": 11,
     "metadata": {},
     "output_type": "execute_result"
    },
    {
     "data": {
      "image/png": "[encoded data removed]",
      "text/plain": [
       "<Figure size 432x288 with 1 Axes>"
      ]
     },
     "metadata": {
      "needs_background": "light"
     },
     "output_type": "display_data"
    }
   ],
   "source": [
    "df_ccard[['INCOME','OWNRENT']].plot()"
   ]
  },
  {
   "cell_type": "markdown",
   "metadata": {},
   "source": [
    "# What is the average experience by age?"
   ]
  },
  {
   "cell_type": "code",
   "execution_count": 12,
   "metadata": {},
   "outputs": [
    {
     "data": {
      "text/plain": [
       "<AxesSubplot:xlabel='AGE', ylabel='AVGEXP'>"
      ]
     },
     "execution_count": 12,
     "metadata": {},
     "output_type": "execute_result"
    },
    {
     "data": {
      "image/png": "[encoded data removed]",
      "text/plain": [
       "<Figure size 432x288 with 1 Axes>"
      ]
     },
     "metadata": {
      "needs_background": "light"
     },
     "output_type": "display_data"
    }
   ],
   "source": [
    "df_ccard.plot.scatter(x='AGE',y='AVGEXP')"
   ]
  },
  {
   "cell_type": "markdown",
   "metadata": {},
   "source": [
    "# What is the frequency of Avg experience vs Income?"
   ]
  },
  {
   "cell_type": "code",
   "execution_count": 13,
   "metadata": {},
   "outputs": [
    {
     "data": {
      "text/plain": [
       "<AxesSubplot:ylabel='Frequency'>"
      ]
     },
     "execution_count": 13,
     "metadata": {},
     "output_type": "execute_result"
    },
    {
     "data": {
      "image/png": "[encoded data removed]",
      "text/plain": [
       "<Figure size 432x288 with 1 Axes>"
      ]
     },
     "metadata": {
      "needs_background": "light"
     },
     "output_type": "display_data"
    }
   ],
   "source": [
    "df_ccard[['AVGEXP','INCOME']].plot.hist()"
   ]
  },
  {
   "cell_type": "markdown",
   "metadata": {},
   "source": [
    "# Is the Income normally distributed across this dataset?"
   ]
  },
  {
   "cell_type": "code",
   "execution_count": 14,
   "metadata": {},
   "outputs": [
    {
     "data": {
      "image/png": "[encoded data removed]",
      "text/plain": [
       "<Figure size 432x288 with 1 Axes>"
      ]
     },
     "metadata": {
      "needs_background": "light"
     },
     "output_type": "display_data"
    }
   ],
   "source": [
    "fig=plt.figure()\n",
    "res=stats.probplot(np.log(df_ccard['INCOME']), plot=plt)"
   ]
  },
  {
   "cell_type": "markdown",
   "metadata": {},
   "source": [
    "# What is the range of ages in the dataset?"
   ]
  },
  {
   "cell_type": "code",
   "execution_count": 15,
   "metadata": {},
   "outputs": [
    {
     "data": {
      "text/plain": [
       "Text(0.5, 1.0, 'Box Plot Showing the Age Range Across the Dataset')"
      ]
     },
     "execution_count": 15,
     "metadata": {},
     "output_type": "execute_result"
    },
    {
     "data": {
      "text/plain": [
       "{'whiskers': [<matplotlib.lines.Line2D at 0x7fbc10a7e880>,\n",
       "  <matplotlib.lines.Line2D at 0x7fbc10a7eb80>],\n",
       " 'caps': [<matplotlib.lines.Line2D at 0x7fbc10a7edc0>,\n",
       "  <matplotlib.lines.Line2D at 0x7fbc10a8d130>],\n",
       " 'boxes': [<matplotlib.lines.Line2D at 0x7fbc10a7e520>],\n",
       " 'medians': [<matplotlib.lines.Line2D at 0x7fbc10a8d490>],\n",
       " 'fliers': [<matplotlib.lines.Line2D at 0x7fbc10a8d7f0>],\n",
       " 'means': []}"
      ]
     },
     "execution_count": 15,
     "metadata": {},
     "output_type": "execute_result"
    },
    {
     "data": {
      "text/plain": [
       "Text(0, 0.5, 'AGE')"
      ]
     },
     "execution_count": 15,
     "metadata": {},
     "output_type": "execute_result"
    },
    {
     "data": {
      "image/png": "[encoded data removed]",
      "text/plain": [
       "<Figure size 432x288 with 1 Axes>"
      ]
     },
     "metadata": {
      "needs_background": "light"
     },
     "output_type": "display_data"
    }
   ],
   "source": [
    "fig1, ax1 = plt.subplots()\n",
    "ax1.set_title('Box Plot Showing the Age Range Across the Dataset')\n",
    "ax1.boxplot(df_ccard['AGE'])\n",
    "plt.ylabel(\"AGE\")"
   ]
  },
  {
   "cell_type": "markdown",
   "metadata": {},
   "source": [
    "# BoxPlot of OWNvsRent"
   ]
  },
  {
   "cell_type": "code",
   "execution_count": 16,
   "metadata": {},
   "outputs": [
    {
     "data": {
      "text/plain": [
       "<AxesSubplot:title={'center':'INCOME'}, xlabel='[OWNRENT]'>"
      ]
     },
     "execution_count": 16,
     "metadata": {},
     "output_type": "execute_result"
    },
    {
     "data": {
      "image/png": "[encoded data removed]",
      "text/plain": [
       "<Figure size 720x720 with 1 Axes>"
      ]
     },
     "metadata": {
      "needs_background": "light"
     },
     "output_type": "display_data"
    }
   ],
   "source": [
    "df_ccard[['INCOME','OWNRENT']].boxplot(column=['INCOME'],by=['OWNRENT']\n",
    "                                      ,rot=45, fontsize=10, figsize=(10,10))\n"
   ]
  },
  {
   "cell_type": "code",
   "execution_count": 17,
   "metadata": {},
   "outputs": [
    {
     "data": {
      "text/plain": [
       "<AxesSubplot:title={'center':'AGE'}, xlabel='[OWNRENT]'>"
      ]
     },
     "execution_count": 17,
     "metadata": {},
     "output_type": "execute_result"
    },
    {
     "data": {
      "image/png": "[encoded data removed]",
      "text/plain": [
       "<Figure size 720x720 with 1 Axes>"
      ]
     },
     "metadata": {
      "needs_background": "light"
     },
     "output_type": "display_data"
    }
   ],
   "source": [
    "df_ccard[['AGE','OWNRENT']].boxplot(column=['AGE'],by=['OWNRENT'],rot=45, fontsize=10, figsize=(10,10))"
   ]
  },
  {
   "cell_type": "markdown",
   "metadata": {},
   "source": [
    "# Data Analysis I"
   ]
  },
  {
   "cell_type": "code",
   "execution_count": 18,
   "metadata": {},
   "outputs": [
    {
     "name": "stdout",
     "output_type": "stream",
     "text": [
      "stat=0.957, p=0.015\n",
      "Probably not Gaussian\n"
     ]
    }
   ],
   "source": [
    "from scipy.stats import shapiro\n",
    "series_2test = df_ccard[['AGE']]\n",
    "stat, p = shapiro(series_2test)\n",
    "print('stat=%.3f, p=%.3f' % (stat, p))\n",
    "if p > 0.05:\n",
    "    print('Probably Gaussian')\n",
    "else:\n",
    "    print('Probably not Gaussian')"
   ]
  },
  {
   "cell_type": "code",
   "execution_count": null,
   "metadata": {},
   "outputs": [],
   "source": [
    "#H_0: people with a younger age tend to have more experience than those older than them\n",
    "#H_Alternative: people with a younger age do not tend to have more experience than those older than them"
   ]
  },
  {
   "cell_type": "code",
   "execution_count": 20,
   "metadata": {},
   "outputs": [],
   "source": [
    "df_ccard['AGE'] = np.log(df_ccard['AGE'])"
   ]
  },
  {
   "cell_type": "code",
   "execution_count": 19,
   "metadata": {},
   "outputs": [
    {
     "data": {
      "text/plain": [
       "<AxesSubplot:>"
      ]
     },
     "execution_count": 19,
     "metadata": {},
     "output_type": "execute_result"
    },
    {
     "data": {
      "image/png": "[encoded data removed]",
      "text/plain": [
       "<Figure size 1296x576 with 1 Axes>"
      ]
     },
     "metadata": {
      "needs_background": "light"
     },
     "output_type": "display_data"
    },
    {
     "data": {
      "text/plain": [
       "((array([-2.34237006, -1.99082273, -1.78576047, -1.63630524, -1.51641919,\n",
       "         -1.41505947, -1.32645591, -1.24719392, -1.1750766 , -1.1086024 ,\n",
       "         -1.04669686, -0.98856283, -0.93359131, -0.88130563, -0.83132494,\n",
       "         -0.78333952, -0.7370936 , -0.69237302, -0.64899629, -0.60680784,\n",
       "         -0.56567297, -0.52547391, -0.48610679, -0.44747917, -0.40950814,\n",
       "         -0.37211871, -0.33524254, -0.29881684, -0.26278347, -0.22708822,\n",
       "         -0.19168008, -0.1565107 , -0.12153391, -0.08670522, -0.05198142,\n",
       "         -0.01732021,  0.01732021,  0.05198142,  0.08670522,  0.12153391,\n",
       "          0.1565107 ,  0.19168008,  0.22708822,  0.26278347,  0.29881684,\n",
       "          0.33524254,  0.37211871,  0.40950814,  0.44747917,  0.48610679,\n",
       "          0.52547391,  0.56567297,  0.60680784,  0.64899629,  0.69237302,\n",
       "          0.7370936 ,  0.78333952,  0.83132494,  0.88130563,  0.93359131,\n",
       "          0.98856283,  1.04669686,  1.1086024 ,  1.1750766 ,  1.24719392,\n",
       "          1.32645591,  1.41505947,  1.51641919,  1.63630524,  1.78576047,\n",
       "          1.99082273,  2.34237006]),\n",
       "  array([20., 21., 21., 21., 22., 22., 22., 23., 23., 24., 24., 24., 24.,\n",
       "         25., 25., 25., 25., 26., 26., 26., 26., 26., 27., 27., 27., 27.,\n",
       "         28., 28., 28., 28., 29., 29., 29., 29., 30., 30., 30., 31., 31.,\n",
       "         31., 32., 33., 33., 33., 33., 33., 33., 34., 34., 34., 35., 35.,\n",
       "         36., 36., 36., 37., 37., 37., 38., 38., 40., 40., 40., 41., 41.,\n",
       "         41., 42., 43., 43., 43., 46., 55.])),\n",
       " (7.139123708986803, 31.27777777777778, 0.9786354192761538))"
      ]
     },
     "execution_count": 19,
     "metadata": {},
     "output_type": "execute_result"
    },
    {
     "data": {
      "image/png": "[encoded data removed]",
      "text/plain": [
       "<Figure size 432x288 with 1 Axes>"
      ]
     },
     "metadata": {
      "needs_background": "light"
     },
     "output_type": "display_data"
    },
    {
     "data": {
      "text/plain": [
       "((array([-2.34237006, -1.99082273, -1.78576047, -1.63630524, -1.51641919,\n",
       "         -1.41505947, -1.32645591, -1.24719392, -1.1750766 , -1.1086024 ,\n",
       "         -1.04669686, -0.98856283, -0.93359131, -0.88130563, -0.83132494,\n",
       "         -0.78333952, -0.7370936 , -0.69237302, -0.64899629, -0.60680784,\n",
       "         -0.56567297, -0.52547391, -0.48610679, -0.44747917, -0.40950814,\n",
       "         -0.37211871, -0.33524254, -0.29881684, -0.26278347, -0.22708822,\n",
       "         -0.19168008, -0.1565107 , -0.12153391, -0.08670522, -0.05198142,\n",
       "         -0.01732021,  0.01732021,  0.05198142,  0.08670522,  0.12153391,\n",
       "          0.1565107 ,  0.19168008,  0.22708822,  0.26278347,  0.29881684,\n",
       "          0.33524254,  0.37211871,  0.40950814,  0.44747917,  0.48610679,\n",
       "          0.52547391,  0.56567297,  0.60680784,  0.64899629,  0.69237302,\n",
       "          0.7370936 ,  0.78333952,  0.83132494,  0.88130563,  0.93359131,\n",
       "          0.98856283,  1.04669686,  1.1086024 ,  1.1750766 ,  1.24719392,\n",
       "          1.32645591,  1.41505947,  1.51641919,  1.63630524,  1.78576047,\n",
       "          1.99082273,  2.34237006]),\n",
       "  array([2.99573227, 3.04452244, 3.04452244, 3.04452244, 3.09104245,\n",
       "         3.09104245, 3.09104245, 3.13549422, 3.13549422, 3.17805383,\n",
       "         3.17805383, 3.17805383, 3.17805383, 3.21887582, 3.21887582,\n",
       "         3.21887582, 3.21887582, 3.25809654, 3.25809654, 3.25809654,\n",
       "         3.25809654, 3.25809654, 3.29583687, 3.29583687, 3.29583687,\n",
       "         3.29583687, 3.33220451, 3.33220451, 3.33220451, 3.33220451,\n",
       "         3.36729583, 3.36729583, 3.36729583, 3.36729583, 3.40119738,\n",
       "         3.40119738, 3.40119738, 3.4339872 , 3.4339872 , 3.4339872 ,\n",
       "         3.4657359 , 3.49650756, 3.49650756, 3.49650756, 3.49650756,\n",
       "         3.49650756, 3.49650756, 3.52636052, 3.52636052, 3.52636052,\n",
       "         3.55534806, 3.55534806, 3.58351894, 3.58351894, 3.58351894,\n",
       "         3.61091791, 3.61091791, 3.61091791, 3.63758616, 3.63758616,\n",
       "         3.68887945, 3.68887945, 3.68887945, 3.71357207, 3.71357207,\n",
       "         3.71357207, 3.73766962, 3.76120012, 3.76120012, 3.76120012,\n",
       "         3.8286414 , 4.00733319])),\n",
       " (0.22633969406236354, 3.418002225325771, 0.9923318944946669))"
      ]
     },
     "execution_count": 19,
     "metadata": {},
     "output_type": "execute_result"
    },
    {
     "data": {
      "image/png": "[encoded data removed]",
      "text/plain": [
       "<Figure size 432x288 with 1 Axes>"
      ]
     },
     "metadata": {
      "needs_background": "light"
     },
     "output_type": "display_data"
    }
   ],
   "source": [
    "df_ccard['AGE'].hist(bins=61, rwidth=.9, figsize=(18,8))\n",
    "plt.show()\n",
    "stats.probplot(df_ccard['AGE'], plot=plt)\n",
    "plt.show()\n",
    "stats.probplot(np.log(df_ccard['AGE']), plot=plt)\n",
    "plt.show()"
   ]
  },
  {
   "cell_type": "code",
   "execution_count": 21,
   "metadata": {},
   "outputs": [],
   "source": [
    "subsetd = df_ccard[['AVGEXP','AGE','INCOME']]"
   ]
  },
  {
   "cell_type": "code",
   "execution_count": 22,
   "metadata": {},
   "outputs": [],
   "source": [
    "from statsmodels.formula.api import ols\n",
    "from sklearn.model_selection import train_test_split\n",
    "\n",
    "target= subsetd['AGE']\n",
    "df_train = subsetd.drop(['AGE'],axis=1)\n",
    "x_train,x_test,y_train,y_test = train_test_split(df_train,target,test_size=0.33,random_state=0)\n",
    "ccard_train = pd.concat([x_train, y_train], axis=1)\n",
    "ccard_test = pd.concat([x_test, y_test], axis=1)"
   ]
  },
  {
   "cell_type": "code",
   "execution_count": 23,
   "metadata": {},
   "outputs": [
    {
     "data": {
      "text/plain": [
       "LinearRegression(normalize=True)"
      ]
     },
     "execution_count": 23,
     "metadata": {},
     "output_type": "execute_result"
    },
    {
     "name": "stdout",
     "output_type": "stream",
     "text": [
      "<bound method LinearRegression.fit of LinearRegression(normalize=True)>\n",
      "3.2380169966719716\n"
     ]
    },
    {
     "data": {
      "text/html": [
       "<div>\n",
       "<style scoped>\n",
       "    .dataframe tbody tr th:only-of-type {\n",
       "        vertical-align: middle;\n",
       "    }\n",
       "\n",
       "    .dataframe tbody tr th {\n",
       "        vertical-align: top;\n",
       "    }\n",
       "\n",
       "    .dataframe thead th {\n",
       "        text-align: right;\n",
       "    }\n",
       "</style>\n",
       "<table border=\"1\" class=\"dataframe\">\n",
       "  <thead>\n",
       "    <tr style=\"text-align: right;\">\n",
       "      <th></th>\n",
       "      <th>Coefficient</th>\n",
       "    </tr>\n",
       "  </thead>\n",
       "  <tbody>\n",
       "    <tr>\n",
       "      <th>AVGEXP</th>\n",
       "      <td>-0.000046</td>\n",
       "    </tr>\n",
       "    <tr>\n",
       "      <th>INCOME</th>\n",
       "      <td>0.059047</td>\n",
       "    </tr>\n",
       "  </tbody>\n",
       "</table>\n",
       "</div>"
      ],
      "text/plain": [
       "        Coefficient\n",
       "AVGEXP    -0.000046\n",
       "INCOME     0.059047"
      ]
     },
     "execution_count": 23,
     "metadata": {},
     "output_type": "execute_result"
    }
   ],
   "source": [
    "from sklearn.linear_model import LinearRegression\n",
    "lin_reg = LinearRegression(normalize=True)\n",
    "lin_reg.fit(x_train,y_train)\n",
    "print(lin_reg.fit)\n",
    "print(lin_reg.intercept_)\n",
    "coeff_df = pd.DataFrame(lin_reg.coef_, x_train.columns, columns=['Coefficient'])\n",
    "coeff_df"
   ]
  }
 ],
 "metadata": {
  "kernelspec": {
   "display_name": "Python 3",
   "language": "python",
   "name": "python3"
  },
  "language_info": {
   "codemirror_mode": {
    "name": "ipython",
    "version": 3
   },
   "file_extension": ".py",
   "mimetype": "text/x-python",
   "name": "python",
   "nbconvert_exporter": "python",
   "pygments_lexer": "ipython3",
   "version": "3.8.5"
  }
 },
 "nbformat": 4,
 "nbformat_minor": 5
}
